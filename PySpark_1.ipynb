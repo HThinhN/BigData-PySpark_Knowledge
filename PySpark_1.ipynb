{
  "cells": [
    {
      "cell_type": "markdown",
      "metadata": {
        "id": "tChWFAUf8CAg"
      },
      "source": [
        "# Part 0: Setting up"
      ]
    },
    {
      "attachments": {},
      "cell_type": "markdown",
      "metadata": {},
      "source": [
        "## Note: \n",
        "Link colab: https://colab.research.google.com/drive/1ddG9NCV7K_SB8JWOxojBwVwI6-gtFC9D#scrollTo=O8YNrN4lAZa5"
      ]
    },
    {
      "cell_type": "markdown",
      "metadata": {
        "id": "867SO8F24Enh"
      },
      "source": [
        "## Install and start MongoDB"
      ]
    },
    {
      "cell_type": "code",
      "execution_count": null,
      "metadata": {
        "id": "enbk0ZkjoxPO"
      },
      "outputs": [],
      "source": [
        "!apt install -qq mongodb\n",
        "!service mongodb start"
      ]
    },
    {
      "cell_type": "markdown",
      "metadata": {
        "id": "7dph1tTf4HkU"
      },
      "source": [
        "## Download dataset and push to our mongodb "
      ]
    },
    {
      "cell_type": "code",
      "execution_count": null,
      "metadata": {
        "id": "cy-r-AQ2pZM0"
      },
      "outputs": [],
      "source": [
        "# It's already the 21st century and people are very impatient, so they use Brotli for text and Zstd for everything else.\n",
        "# Reference: https://github.com/google/brotli\n",
        "!apt-get install -qq brotli"
      ]
    },
    {
      "cell_type": "code",
      "execution_count": null,
      "metadata": {
        "id": "XNT5v0BkpMWa"
      },
      "outputs": [],
      "source": [
        "!wget -q https://csc14118.github.io/thuoc_raw.json.br\n",
        "!wget -q https://csc14118.github.io/gia_ke_khai_raw.json.br\n",
        "!wget -q https://csc14118.github.io/movies_lang.json.br "
      ]
    },
    {
      "cell_type": "code",
      "execution_count": null,
      "metadata": {
        "id": "qqVJXO4TpQDZ"
      },
      "outputs": [],
      "source": [
        "!brotli -d *.br"
      ]
    },
    {
      "cell_type": "code",
      "execution_count": null,
      "metadata": {
        "id": "p2AGMuFp6x2u"
      },
      "outputs": [],
      "source": [
        "!pip install -q pymongo"
      ]
    },
    {
      "cell_type": "code",
      "execution_count": null,
      "metadata": {
        "id": "4lGAVCVCpz_9"
      },
      "outputs": [],
      "source": [
        "import json\n",
        "from pymongo import MongoClient\n",
        "\n",
        "client = MongoClient()\n",
        "\n",
        "# Creation of the new database\n",
        "db = client['input_data']\n",
        "\n",
        "collection_name = [\"gia_ke_khai_raw\", \"movies_lang\", \"thuoc_raw\"]\n",
        "\n",
        "# Push our data to mongodb\n",
        "for data in collection_name:\n",
        "    collection = db[data]\n",
        "    chunks = json.load(open(f'{data}.json', encoding='utf-8'))\n",
        "    collection.insert_many(chunks)\n",
        "\n",
        "# Create a dummy database to test\n",
        "db = client['dummy']\n",
        "db['chunks'].insert_many([{'Banh xeo': 'Rat ngon'},{'Banh bao': 'Cung ngon'}])\n",
        "\n",
        "client.list_database_names()"
      ]
    },
    {
      "cell_type": "markdown",
      "metadata": {
        "id": "BPgvKHYi46Zh"
      },
      "source": [
        "## Install pyspark"
      ]
    },
    {
      "cell_type": "code",
      "execution_count": null,
      "metadata": {
        "id": "3BQOC48fkpMX"
      },
      "outputs": [],
      "source": [
        "!apt-get install openjdk-8-jdk-headless -qq > /dev/null\n",
        "!wget -q \"https://archive.apache.org/dist/spark/spark-3.1.1/spark-3.1.1-bin-hadoop2.7.tgz\"\n",
        "!tar xf spark-3.1.1-bin-hadoop2.7.tgz\n",
        "!pip install -q findspark"
      ]
    },
    {
      "cell_type": "code",
      "execution_count": null,
      "metadata": {
        "id": "nJFxkwtAkt3U"
      },
      "outputs": [],
      "source": [
        "import os\n",
        "os.environ[\"JAVA_HOME\"] = \"/usr/lib/jvm/java-8-openjdk-amd64\"\n",
        "os.environ[\"SPARK_HOME\"] = \"spark-3.1.1-bin-hadoop2.7\"\n",
        "import findspark\n",
        "findspark.init()\n",
        "findspark.find()"
      ]
    },
    {
      "cell_type": "code",
      "execution_count": null,
      "metadata": {
        "id": "qgjKoGjDzZgu"
      },
      "outputs": [],
      "source": [
        "import pyspark\n",
        "print(pyspark.__version__)"
      ]
    },
    {
      "cell_type": "markdown",
      "metadata": {
        "id": "N4x3MtDq494s"
      },
      "source": [
        "## Dirty trick to connect spark to our mongodb\n",
        "\n",
        "In industry environment, please read the docs carefully to seting up these complicated things."
      ]
    },
    {
      "cell_type": "code",
      "execution_count": null,
      "metadata": {
        "id": "J3kZd3CZNIY-"
      },
      "outputs": [],
      "source": [
        "!rm $SPARK_HOME/jars/mongo*.jar\n",
        "!rm $SPARK_HOME/jars/bson*.jar"
      ]
    },
    {
      "cell_type": "code",
      "execution_count": null,
      "metadata": {
        "id": "wPavC4NBR0fn"
      },
      "outputs": [],
      "source": [
        "!cd $SPARK_HOME/jars && wget https://repo1.maven.org/maven2/org/mongodb/spark/mongo-spark-connector_2.12/10.1.1/mongo-spark-connector_2.12-10.1.1.jar\n",
        "# Because having a new version of mongodb-driver and mongodb-java-driver in https://repo1.maven.org/maven2/org/mongodb so we need change\n",
        "# this link.\n",
        "# !cd $SPARK_HOME/jars && wget https://repo1.maven.org/maven2/org/mongodb/mongodb-driver/3.12.12/mongodb-driver-3.12.12.jar\n",
        "# !cd $SPARK_HOME/jars && wget https://repo1.maven.org/maven2/org/mongodb/mongo-java-driver/3.12.12/mongo-java-driver-3.12.12.jar\n",
        "!cd $SPARK_HOME/jars && wget https://repo1.maven.org/maven2/org/mongodb/mongodb-driver/3.12.13/mongodb-driver-3.12.13.jar\n",
        "!cd $SPARK_HOME/jars && wget https://repo1.maven.org/maven2/org/mongodb/mongo-java-driver/3.12.13/mongo-java-driver-3.12.13.jar\n",
        "!cd $SPARK_HOME/jars && wget https://repo1.maven.org/maven2/org/mongodb/bson/4.6.0/bson-4.6.0.jar\n"
      ]
    },
    {
      "cell_type": "code",
      "execution_count": null,
      "metadata": {
        "id": "E9Z415K4fRED"
      },
      "outputs": [],
      "source": [
        "from pyspark.shell import spark\n",
        "from pyspark import SparkContext,SparkConf\n",
        "\n",
        "uri = \"mongodb://localhost:27017/input_data\"\n",
        "\n",
        "from pyspark.sql import SparkSession\n",
        "\n",
        "spark_jb = \"org.mongodb.spark:mongo-spark-connector_2.12:10.1.1\"\n",
        "my_spark = SparkSession \\\n",
        "    .builder \\\n",
        "    .config(\"spark.executor.memory\", \"1g\") \\\n",
        "    .appName(\"csc14112\") \\\n",
        "    .config(\"spark.mongodb.read.connection.uri\", uri) \\\n",
        "    .config(\"spark.mongodb.write.connection.uri\", uri) \\\n",
        "    .getOrCreate()"
      ]
    },
    {
      "cell_type": "code",
      "execution_count": null,
      "metadata": {
        "id": "VIcRV6NEfdM5"
      },
      "outputs": [],
      "source": [
        "# Test read data from our mongo db\n",
        "p = my_spark.read.format(\"mongodb\").option(\"database\",\"input_data\").option(\"collection\", \"gia_ke_khai_raw\").load()\n",
        "p.printSchema()"
      ]
    },
    {
      "cell_type": "code",
      "execution_count": null,
      "metadata": {
        "id": "7QDbkF7Wpl4f"
      },
      "outputs": [],
      "source": [
        "p.show()"
      ]
    },
    {
      "cell_type": "markdown",
      "metadata": {
        "id": "OOBcV-zg8IPv"
      },
      "source": [
        "# Part 1: Introduction to PySpark"
      ]
    },
    {
      "cell_type": "markdown",
      "metadata": {
        "id": "LejimkJO8u6A"
      },
      "source": [
        "\n",
        "In this lab assignment, we will work with a movie dataset loaded into our MongoDB at `input_data.movies_lang`. We will use PySpark RDD and DataFrame to perform the following tasks:"
      ]
    },
    {
      "cell_type": "code",
      "execution_count": null,
      "metadata": {
        "id": "29SbDUgzQksL"
      },
      "outputs": [],
      "source": [
        "# YOUR CODE HERE\n",
        "# Read data from mongodb\n",
        "df_movies_lang = my_spark.read.format(\"mongodb\").option(\"database\",\"input_data\").option(\"collection\", \"movies_lang\").load()\n",
        "df_movies_lang.printSchema()\n"
      ]
    },
    {
      "cell_type": "code",
      "execution_count": null,
      "metadata": {
        "id": "Jm4SVCzNKnfN"
      },
      "outputs": [],
      "source": [
        "df_movies_lang.select(\"_id\", \"actors\").show()"
      ]
    },
    {
      "cell_type": "markdown",
      "metadata": {
        "id": "mjQyMcL59FwB"
      },
      "source": [
        "### (a) Count the number of movies by country. Sort by count in decreasing order."
      ]
    },
    {
      "cell_type": "code",
      "execution_count": null,
      "metadata": {
        "id": "qOKzEl44nj6V"
      },
      "outputs": [],
      "source": [
        "# YOUR CODE HERE\n",
        "from pyspark.sql.functions import col\n",
        "gb_country=df_movies_lang.groupBy(\"country\").count()\n",
        "t=gb_country.orderBy(col(\"count\").desc())\n",
        "for country,count in t.collect():\n",
        "  print(\"country:\",f\"{country:<3}\",\"|number of movies:\",count)"
      ]
    },
    {
      "cell_type": "markdown",
      "metadata": {
        "id": "Gi9OiL_K8610"
      },
      "source": [
        "### (b) Return the titles of the movies produced in France."
      ]
    },
    {
      "cell_type": "code",
      "execution_count": null,
      "metadata": {
        "id": "nuIk85yf-5EX"
      },
      "outputs": [],
      "source": [
        "# YOUR CODE HERE\n",
        "\n",
        "title_FR=df_movies_lang.select(\"title\").where(df_movies_lang.country==\"FR\")\n",
        "print(\"The titles of the movies produced in France:\")\n",
        "for title in title_FR.collect():\n",
        "  print(title.title)"
      ]
    },
    {
      "cell_type": "markdown",
      "metadata": {
        "id": "RWIrwllI-9LI"
      },
      "source": [
        "### (c) Return the title of the movies of which Sofia Coppola is one of the actresses. "
      ]
    },
    {
      "cell_type": "code",
      "execution_count": null,
      "metadata": {
        "id": "XznCrQxy-858"
      },
      "outputs": [],
      "source": [
        "# YOUR CODE HERE\n",
        "df = df_movies_lang.selectExpr(\"title\", \"explode(actors) as actor\")\n",
        "df = df.filter(\"actor.first_name = 'Sofia'\")\n",
        "print(\"The title of the movies of which Sofia Coppola is one of the actresses:\")\n",
        "for title,actor in df.collect():\n",
        "    print(title)"
      ]
    },
    {
      "cell_type": "markdown",
      "metadata": {
        "id": "rqtvCzPV_Con"
      },
      "source": [
        "### (d) Return the names and birth dates of the directors of movies produced in France.\n"
      ]
    },
    {
      "cell_type": "code",
      "execution_count": null,
      "metadata": {
        "id": "ZBzAdOj8_Cb3"
      },
      "outputs": [],
      "source": [
        "# YOUR CODE HERE\n",
        "\n",
        "# Filter movies produced in France\n",
        "france_movies = df_movies_lang.rdd.filter(lambda x: x.country == 'FR')\n",
        "\n",
        "# Extract director name and birth date\n",
        "director_info = france_movies.map(lambda x: (x.director['last_name'] + \" \" + x.director['first_name'], x.director['birth_date']))\n",
        "# Remove duplicates\n",
        "distinct_director_info = director_info.distinct()\n",
        "# Print the results\n",
        "for name, birthdate in distinct_director_info.collect():\n",
        "    print(\"Director Name: \", name, \" | Birth Date: \", birthdate)"
      ]
    },
    {
      "cell_type": "markdown",
      "metadata": {
        "id": "jtYnldOV_MXj"
      },
      "source": [
        "### (e) Return the average number of actors in a film.\n"
      ]
    },
    {
      "cell_type": "code",
      "execution_count": null,
      "metadata": {
        "id": "RQmY486U_PaW"
      },
      "outputs": [],
      "source": [
        "# YOUR CODE HERE\n",
        "\n",
        "from pyspark.sql.functions import size, avg\n",
        "\n",
        "# Count total number of actors per row\n",
        "df_movies_lang_with_count = df_movies_lang.withColumn('actor_count', size(df_movies_lang.actors))\n",
        "df_movies_lang_with_count.select(\"_id\", \"actor_count\").show()\n",
        "# Calculate average number of actors\n",
        "avg_actors = df_movies_lang_with_count.agg(avg('actor_count')).collect()[0][0]\n",
        "\n",
        "print(f'Average number of actors: {avg_actors:.2f}')"
      ]
    },
    {
      "cell_type": "markdown",
      "metadata": {
        "id": "vbZmOOAz_RDj"
      },
      "source": [
        "### (f) Return the name of the actor that acted in the most movies."
      ]
    },
    {
      "cell_type": "code",
      "execution_count": null,
      "metadata": {
        "id": "V6ZKk9Ts_StS"
      },
      "outputs": [],
      "source": [
        "# YOUR CODE HERE\n",
        "\n",
        "from pyspark.sql.functions import explode, col\n",
        "\n",
        "# Explode the \"actors\" column to create a new row for each actor in each movie\n",
        "exploded_df = df_movies_lang.select(\"_id\", explode(col(\"actors\")).alias(\"actor\"))\n",
        "\n",
        "# Group by actor _id and count the number of movies they appeared in\n",
        "actor_counts = exploded_df.groupBy(\"actor._id\").count()\n",
        "\n",
        "# Sort by count in descending order and take the first row\n",
        "most_frequent_actor = actor_counts.orderBy(col(\"count\").desc())\n",
        "most_frequent_actor.show()\n",
        "# Get the id of the actor that appeared in the most movies\n",
        "actor_id = most_frequent_actor.first()[0]\n",
        "\n",
        "# Filter for the desired actor ID and select their name\n",
        "actor = exploded_df.filter(col(\"actor._id\") == actor_id).select(\"actor._id\", \"actor.last_name\", \"actor.first_name\").first()\n",
        "\n",
        "# Print the name of the actor\n",
        "print(f'Name of the actor that acted in the most movies: {actor[0]} -', actor[1] + \" \" + actor[2])"
      ]
    },
    {
      "cell_type": "markdown",
      "metadata": {
        "id": "1p8qOmwE8MU8"
      },
      "source": [
        "# Part 2: Real-world Data Manipulation"
      ]
    },
    {
      "cell_type": "markdown",
      "metadata": {
        "id": "6Xjjk5Sg_xuO"
      },
      "source": [
        "In this part of the lab, we will work with two collections in our MongoDB: `gia_ke_khai_raw` and `thuoc_raw` loaded at `input_data.gia_ke_khai_raw` and `input_data.thuoc_raw` respectively. We will use PySpark RDD and DataFrame to perform the following tasks:"
      ]
    },
    {
      "cell_type": "markdown",
      "metadata": {
        "id": "QJXKtUUkHDLn"
      },
      "source": [
        "### (a)  Read the datasets into a DataFrame and print out the schema and the number of records."
      ]
    },
    {
      "cell_type": "code",
      "execution_count": null,
      "metadata": {
        "id": "BsEKB1yk_o7d"
      },
      "outputs": [],
      "source": [
        "# YOUR CODE HERE\n",
        "gia_ke_khai_df = my_spark.read.format(\"mongodb\").option(\"database\",\"input_data\").option(\"collection\", \"gia_ke_khai_raw\").load()\n",
        "print(\"gia_ke_khai_raw schema:\")\n",
        "gia_ke_khai_df.printSchema()\n",
        "print(\"number of records gia_ke_khai_raw:\", gia_ke_khai_df.count())\n",
        "\n",
        "thuoc_df  = my_spark.read.format(\"mongodb\").option(\"database\",\"input_data\").option(\"collection\", \"thuoc_raw\").load()\n",
        "print(\"thuoc_raw schema:\")\n",
        "thuoc_df.printSchema()\n",
        "print(\"number of records thuoc_raw :\", thuoc_df.count())\n",
        "# raise NotImplementedError"
      ]
    },
    {
      "cell_type": "markdown",
      "metadata": {
        "id": "KrwAxI--bzks"
      },
      "source": [
        "### (b) Show all records in the `thuoc_raw` collection that have the same active pharmaceutical ingredient (API) in their `hoatChat` field as their medicine name.\n",
        "\n",
        "\n",
        "Notes: In the context of medication, API stands for Active Pharmaceutical Ingredient, which is the biologically active component in a drug that produces the intended therapeutic effect. In other words, it is the chemical substance that gives a medicine its medicinal properties."
      ]
    },
    {
      "cell_type": "code",
      "execution_count": null,
      "metadata": {
        "id": "myaTwNj8byW0"
      },
      "outputs": [],
      "source": [
        "# YOUR CODE HERE\n",
        "same_apis_df = thuoc_df.alias(\"thuoc1\").join(thuoc_df.alias(\"thuoc2\"),\n",
        "    col(\"thuoc1.hoatChat\") == col(\"thuoc2.tenThuoc\"), \"inner\")\\\n",
        ".select(col(\"thuoc1._id\"),col(\"thuoc1.baoChe\"),col(\"thuoc1.tenThuoc\"), col(\"thuoc1.hoatChat\"))\n",
        "\n",
        "same_apis_df.show(truncate=False)\n",
        "# raise NotImplementedError"
      ]
    },
    {
      "cell_type": "markdown",
      "metadata": {
        "id": "9e0N9KtvIIS4"
      },
      "source": [
        "### (c) Create a new DataFrame from the `thuoc_raw` collection that splits the API in the `hoatChat` field into multiple rows. For example, \"paracetamol\" is the API in \"Paracetamol 500 mg,\" and \"amoxicillin\" is the API in various medications such as \"Amogentine 500mg/125mg,\" \"Augbactam 1g/200mg,\" and \"Viamomentin.\" The resulting DataFrame should have two columns: `hoatChat` and `thuocTuongUng` as a list. After processing the data, write it back to our MongoDB at `output_data.thuocthaythe`."
      ]
    },
    {
      "cell_type": "code",
      "execution_count": null,
      "metadata": {
        "id": "BQzlRdrKag1A"
      },
      "outputs": [],
      "source": [
        "# YOUR CODE HERE\n",
        "from pyspark.sql.functions import udf\n",
        "from pyspark.sql.types import ArrayType, StringType\n",
        "import re\n",
        "from pyspark.sql.functions import collect_list\n",
        "# Define a Python function to extract the keys from the values column\n",
        "def extract_keys(value):\n",
        "    values = value.split(\", \")\n",
        "    keys = []\n",
        "    for value in values:\n",
        "        try:\n",
        "            sub_string = re.search(f\"\\d+(,\\d+)? *(gam|mg|g|UI|ml|l|IU|\\%)(\\/\\d+ ?ml)?\", value).group(0)\n",
        "            keys.append(value.replace(sub_string, \"\").replace(\"  \", \"\").strip().lower())\n",
        "        except:\n",
        "            keys.append(value.strip().lower())\n",
        "    # keys = re.findall(r\"\\b\\w+(?:\\s+\\w+)*\\b(?=\\s+\\d+\\s*[mg]?)\", value)\n",
        "    # keys = [key.lower() for key in keys]\n",
        "    return keys\n",
        "\n",
        "# Define a UDF that wraps the Python function\n",
        "extract_keys_udf = udf(extract_keys, ArrayType(StringType()))\n",
        "\n",
        "# Apply the UDF to the values column to create a new column with the keys as an array\n",
        "thuoc_df = thuoc_df.withColumn('hoatChat_values', extract_keys_udf('hoatChat'))\n",
        "thuoc_df.select(\"tenThuoc\", \"hoatChat_values\").show()\n",
        "from pyspark.sql.functions import explode\n",
        "\n",
        "# Explode the values column into separate rows and rename the columns\n",
        "df_exploded = thuoc_df.selectExpr('tenThuoc', 'explode(hoatChat_values) as value') \\\n",
        "                .withColumnRenamed('tenThuoc', 'tenThuoc') \\\n",
        "                .withColumnRenamed('value', 'hoatChat')\n",
        "\n",
        "# Show the resulting DataFrame\n",
        "df_exploded.show()\n",
        "# raise NotImplementedError\n",
        "\n",
        "# Assuming your dataframe is called \"df\"\n",
        "result_df = df_exploded.groupBy(\"hoatChat\").agg(collect_list(\"tenThuoc\").alias(\"thuocTuongUng\"))\n",
        "\n",
        "# Show the result dataframe\n",
        "result_df.show()\n",
        "\n",
        "# Write it back to our MongoDB at `output_data.thuocthaythe`\n",
        "result_df.write.format(\"mongodb\").option(\"database\",\"output_data\").option(\"collection\", \"thuocthaythe\").mode(\"overwrite\").save()"
      ]
    },
    {
      "cell_type": "code",
      "execution_count": null,
      "metadata": {
        "id": "bMbLjjkQIZaU"
      },
      "outputs": [],
      "source": [
        "test_c_output_df = my_spark.read.format(\"mongodb\").option(\"database\",\"output_data\").option(\"collection\", \"thuocthaythe\").load()\n",
        "test_c_output_df.show()"
      ]
    },
    {
      "cell_type": "markdown",
      "metadata": {
        "id": "sQ00j4TuHosd"
      },
      "source": [
        "### (d) Create new DataFrame from two mentioned above that contains  `tenThuoc`, `hoatChat`, `dongGoi`, `dvt` and `giaBan`. After process the data, write it back to our mongodb at `output_data.giathuoc`."
      ]
    },
    {
      "cell_type": "code",
      "execution_count": null,
      "metadata": {
        "id": "O8YNrN4lAZa5"
      },
      "outputs": [],
      "source": [
        "# YOUR CODE HERE\n",
        "# gia_ke_khai_df.show(truncate=False)\n",
        "# thuoc_df.show(truncate=False)\n",
        "# Explode the values column into separate rows, get id to compare with sdk in gia_ke_khai_df and rename the columns \n",
        "thuoc_df_exploded = thuoc_df.selectExpr('id','tenThuoc', 'explode(hoatChat_values) as value') \\\n",
        "                .withColumnRenamed('tenThuoc', 'tenThuoc') \\\n",
        "                .withColumnRenamed('value', 'hoatChat')\n",
        "thuoc_df_exploded.show()\n",
        "# Using join with comparing \"id\" in thuoc_df_exploded with \"sdk\" in gia_ke_khai_df and select attributes in paraphase \n",
        "gia_thuoc_df = thuoc_df_exploded.alias(\"thuoc\").join(gia_ke_khai_df.alias(\"giakekhai\"),\n",
        "    col(\"thuoc.id\") == col(\"giakekhai.sdk\"))\\\n",
        "    .select(col(\"thuoc.tenThuoc\"),col(\"thuoc.hoatChat\"),col(\"giakekhai.dongGoi\"), col(\"giakekhai.dvt\"), col(\"giakekhai.giaBan\"))\n",
        "gia_thuoc_df.show()\n",
        "# Write it back to our MongoDB at `output_data.giathuoc`\n",
        "gia_thuoc_df.write.format(\"mongodb\") \\\n",
        "    .option(\"database\", \"output_data\") \\\n",
        "    .option(\"collection\", \"giathuoc\") \\\n",
        "    .mode(\"overwrite\") \\\n",
        "    .save()"
      ]
    },
    {
      "cell_type": "code",
      "execution_count": null,
      "metadata": {
        "id": "yj34WUuAP_hl"
      },
      "outputs": [],
      "source": [
        "test_d_output_df = my_spark.read.format(\"mongodb\").option(\"database\",\"output_data\").option(\"collection\", \"giathuoc\").load()\n",
        "test_d_output_df.show()"
      ]
    }
  ],
  "metadata": {
    "accelerator": "GPU",
    "colab": {
      "private_outputs": true,
      "provenance": []
    },
    "gpuClass": "standard",
    "kernelspec": {
      "display_name": "Python 3",
      "name": "python3"
    },
    "language_info": {
      "codemirror_mode": {
        "name": "ipython",
        "version": 3
      },
      "file_extension": ".py",
      "mimetype": "text/x-python",
      "name": "python",
      "nbconvert_exporter": "python",
      "pygments_lexer": "ipython3",
      "version": "3.9.13"
    }
  },
  "nbformat": 4,
  "nbformat_minor": 0
}
